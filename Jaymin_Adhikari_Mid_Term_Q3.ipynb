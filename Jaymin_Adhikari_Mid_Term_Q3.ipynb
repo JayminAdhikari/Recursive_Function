{
 "cells": [
  {
   "cell_type": "markdown",
   "id": "c8eb04bd",
   "metadata": {},
   "source": [
    "# Develop a recursive function tough() that takes two nonnegative integer arguments and outputs a pattern as shown below. Hint: The first argument represents the indentation of the pattern, where the second argument -- always a pattern of 2 indicates the number *s in the longest line of *s in the pattern\n",
    "\n"
   ]
  },
  {
   "cell_type": "code",
   "execution_count": 1,
   "id": "6607bdd8",
   "metadata": {},
   "outputs": [],
   "source": [
    "def tough(indent, n):\n",
    "    if n == 0:\n",
    "        return\n",
    "    tough(indent, n //2)\n",
    "    print(\" \" * indent + \"*\" * n)\n",
    "    tough(indent + 1, n // 2)\n"
   ]
  },
  {
   "cell_type": "code",
   "execution_count": 2,
   "id": "8e167dd1",
   "metadata": {},
   "outputs": [],
   "source": [
    "# Example usage\n",
    "tough(0, 0)"
   ]
  },
  {
   "cell_type": "code",
   "execution_count": 3,
   "id": "caeac25b",
   "metadata": {},
   "outputs": [
    {
     "name": "stdout",
     "output_type": "stream",
     "text": [
      "*\n"
     ]
    }
   ],
   "source": [
    "tough(0, 1)"
   ]
  },
  {
   "cell_type": "code",
   "execution_count": 4,
   "id": "dd6f704a",
   "metadata": {},
   "outputs": [
    {
     "name": "stdout",
     "output_type": "stream",
     "text": [
      "*\n",
      "**\n",
      " *\n"
     ]
    }
   ],
   "source": [
    "tough(0, 2)"
   ]
  },
  {
   "cell_type": "code",
   "execution_count": 5,
   "id": "ae0e7aa5",
   "metadata": {},
   "outputs": [
    {
     "name": "stdout",
     "output_type": "stream",
     "text": [
      "*\n",
      "**\n",
      " *\n",
      "****\n",
      " *\n",
      " **\n",
      "  *\n"
     ]
    }
   ],
   "source": [
    "tough(0, 4)"
   ]
  },
  {
   "cell_type": "code",
   "execution_count": null,
   "id": "f2159ad8",
   "metadata": {},
   "outputs": [],
   "source": []
  },
  {
   "cell_type": "code",
   "execution_count": null,
   "id": "f07cec1a",
   "metadata": {},
   "outputs": [],
   "source": []
  }
 ],
 "metadata": {
  "kernelspec": {
   "display_name": "Python 3",
   "language": "python",
   "name": "python3"
  },
  "language_info": {
   "codemirror_mode": {
    "name": "ipython",
    "version": 3
   },
   "file_extension": ".py",
   "mimetype": "text/x-python",
   "name": "python",
   "nbconvert_exporter": "python",
   "pygments_lexer": "ipython3",
   "version": "3.8.8"
  }
 },
 "nbformat": 4,
 "nbformat_minor": 5
}
